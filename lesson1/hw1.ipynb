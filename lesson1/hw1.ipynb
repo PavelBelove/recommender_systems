{
 "cells": [
  {
   "cell_type": "markdown",
   "metadata": {
    "collapsed": true,
    "pycharm": {
     "name": "#%% md\n"
    }
   },
   "source": [
    "# HW1"
   ]
  },
  {
   "cell_type": "code",
   "execution_count": 31,
   "outputs": [],
   "source": [
    "import pandas as pd\n",
    "import numpy as np\n",
    "import math"
   ],
   "metadata": {
    "collapsed": false,
    "pycharm": {
     "name": "#%%\n"
    }
   }
  },
  {
   "cell_type": "code",
   "execution_count": 32,
   "outputs": [],
   "source": [
    "recommended_list = [143, 156, 1134, 991, 27, 1543, 3345, 533, 11, 43] #id товаров\n",
    "bought_list = [521, 32, 143, 991]\n",
    "grades_list = [1, 2, 3, 1, 1, 2, 3, 1, 2, 1]\n",
    "prices_recommended = [400, 60, 40, 40 , 90]\n",
    "prices_bought = [60, 40, 40 , 90]"
   ],
   "metadata": {
    "collapsed": false,
    "pycharm": {
     "name": "#%%\n"
    }
   }
  },
  {
   "cell_type": "markdown",
   "source": [
    "## Hit Rate"
   ],
   "metadata": {
    "collapsed": false
   }
  },
  {
   "cell_type": "code",
   "execution_count": 33,
   "outputs": [],
   "source": [
    "def hit_rate(recommended_list, bought_list):\n",
    "\n",
    "    bought_list = np.array(bought_list)\n",
    "    recommended_list = np.array(recommended_list)\n",
    "\n",
    "    flags = np.isin(bought_list, recommended_list)\n",
    "\n",
    "    hit_rate = (flags.sum() > 0) * 1\n",
    "\n",
    "    return hit_rate\n",
    "\n",
    "\n",
    "def hit_rate_at_k(recommended_list, bought_list, k=5):\n",
    "\n",
    "    bought_list = np.array(bought_list)\n",
    "    recommended_list = np.array(recommended_list[:k]) # Срез до k в листе рекоммендаций.\n",
    "\n",
    "    flags = np.isin(bought_list, recommended_list)\n",
    "\n",
    "    hit_rate = (flags.sum() > 0) * 1\n",
    "\n",
    "    return hit_rate"
   ],
   "metadata": {
    "collapsed": false,
    "pycharm": {
     "name": "#%%\n"
    }
   }
  },
  {
   "cell_type": "code",
   "execution_count": 34,
   "outputs": [
    {
     "data": {
      "text/plain": "1"
     },
     "execution_count": 34,
     "metadata": {},
     "output_type": "execute_result"
    }
   ],
   "source": [
    "hit_rate_at_k(recommended_list, bought_list, k=5)"
   ],
   "metadata": {
    "collapsed": false,
    "pycharm": {
     "name": "#%%\n"
    }
   }
  },
  {
   "cell_type": "markdown",
   "source": [
    "## Precision"
   ],
   "metadata": {
    "collapsed": false
   }
  },
  {
   "cell_type": "code",
   "execution_count": 35,
   "outputs": [],
   "source": [
    "def precision(recommended_list, bought_list):\n",
    "\n",
    "    bought_list = np.array(bought_list)\n",
    "    recommended_list = np.array(recommended_list)\n",
    "\n",
    "    flags = np.isin(bought_list, recommended_list)\n",
    "\n",
    "    precision = flags.sum() / len(recommended_list)\n",
    "\n",
    "    return precision\n",
    "\n",
    "\n",
    "def precision_at_k(recommended_list, bought_list, k=5):\n",
    "\n",
    "    bought_list = np.array(bought_list)\n",
    "    recommended_list = np.array(recommended_list)\n",
    "\n",
    "    bought_list = bought_list  # Тут нет [:k] !!\n",
    "    recommended_list = recommended_list[:k]\n",
    "\n",
    "    flags = np.isin(bought_list, recommended_list)\n",
    "\n",
    "    precision = flags.sum() / len(recommended_list)\n",
    "\n",
    "\n",
    "    return precision\n",
    "\n",
    "\n",
    "\n",
    "def money_precision_at_k(recommended_list, bought_list, prices_recommended, k=5):\n",
    "\n",
    "    recommend_list = np.array(recommended_list)[:k]\n",
    "    prices_recommended = np.array(prices_recommended)[:k]\n",
    "\n",
    "    flags = np.isin(recommend_list, bought_list)\n",
    "\n",
    "    precision = np.dot(flags, prices_recommended) / prices_recommended.sum()\n",
    "\n",
    "    return precision"
   ],
   "metadata": {
    "collapsed": false,
    "pycharm": {
     "name": "#%%\n"
    }
   }
  },
  {
   "cell_type": "code",
   "execution_count": 36,
   "outputs": [
    {
     "data": {
      "text/plain": "0.6984126984126984"
     },
     "execution_count": 36,
     "metadata": {},
     "output_type": "execute_result"
    }
   ],
   "source": [
    "money_precision_at_k(recommended_list, bought_list, prices_recommended, k=5)"
   ],
   "metadata": {
    "collapsed": false,
    "pycharm": {
     "name": "#%%\n"
    }
   }
  },
  {
   "cell_type": "markdown",
   "source": [
    "## Recall\n"
   ],
   "metadata": {
    "collapsed": false,
    "pycharm": {
     "name": "#%% md\n"
    }
   }
  },
  {
   "cell_type": "code",
   "execution_count": 37,
   "outputs": [],
   "source": [
    "def recall(recommended_list, bought_list):\n",
    "    bought_list = np.array(bought_list)\n",
    "    recommended_list = np.array(recommended_list)\n",
    "\n",
    "    flags = np.isin(bought_list, recommended_list)\n",
    "\n",
    "    recall = flags.sum() / len(bought_list)\n",
    "\n",
    "    return recall\n",
    "\n",
    "\n",
    "def recall_at_k(recommended_list, bought_list, k=5):\n",
    "    # your_code\n",
    "\n",
    "    bought_list = np.array(bought_list)\n",
    "    recommended_list = np.array(recommended_list)\n",
    "\n",
    "    recommended_list = recommended_list[:k]\n",
    "\n",
    "    flags = np.isin(bought_list, recommended_list)\n",
    "\n",
    "    recall = flags.sum() / len(bought_list)\n",
    "\n",
    "    return recall\n",
    "\n",
    "\n",
    "def money_recall_at_k(recommended_list, bought_list, prices_recommended, prices_bought, k=5):\n",
    "    # your_code\n",
    "\n",
    "    bought_list = np.array(bought_list)\n",
    "    prices_bought = np.array(prices_bought)\n",
    "    recommended_list = np.array(recommended_list)[:k]\n",
    "    prices_recommended = np.array(prices_recommended)[:k]\n",
    "\n",
    "    flags = np.isin(recommended_list, bought_list)\n",
    "\n",
    "    recall = np.dot(flags, prices_recommended) / prices_bought.sum()\n",
    "\n",
    "    return recall"
   ],
   "metadata": {
    "collapsed": false,
    "pycharm": {
     "name": "#%%\n"
    }
   }
  },
  {
   "cell_type": "code",
   "execution_count": 38,
   "outputs": [
    {
     "data": {
      "text/plain": "0.5"
     },
     "execution_count": 38,
     "metadata": {},
     "output_type": "execute_result"
    }
   ],
   "source": [
    "recall_at_k(recommended_list, bought_list, 5)"
   ],
   "metadata": {
    "collapsed": false,
    "pycharm": {
     "name": "#%%\n"
    }
   }
  },
  {
   "cell_type": "code",
   "execution_count": 39,
   "outputs": [
    {
     "data": {
      "text/plain": "1.9130434782608696"
     },
     "execution_count": 39,
     "metadata": {},
     "output_type": "execute_result"
    }
   ],
   "source": [
    "money_recall_at_k(recommended_list, bought_list, prices_recommended, prices_bought, 5)"
   ],
   "metadata": {
    "collapsed": false,
    "pycharm": {
     "name": "#%%\n"
    }
   }
  },
  {
   "cell_type": "markdown",
   "source": [
    "## MAP@k"
   ],
   "metadata": {
    "collapsed": false,
    "pycharm": {
     "name": "#%% md\n"
    }
   }
  },
  {
   "cell_type": "code",
   "execution_count": 40,
   "outputs": [],
   "source": [
    "def ap_k(recommended_list, bought_list, k=5):\n",
    "\n",
    "    bought_list = np.array(bought_list)\n",
    "    recommended_list = np.array(recommended_list)\n",
    "\n",
    "    flags = np.isin(recommended_list, bought_list)\n",
    "\n",
    "    if sum(flags) == 0:\n",
    "        return 0\n",
    "\n",
    "    sum_ = 0\n",
    "    for i in range(0, k-1):\n",
    "        if flags[i] == True:\n",
    "            p_k = precision_at_k(recommended_list, bought_list, k=i+1)\n",
    "            sum_ += p_k\n",
    "\n",
    "    result = sum_ / sum(flags)\n",
    "\n",
    "    return result\n",
    "\n",
    "def map_k(recommended_all_users, bought_all_users, k=5):\n",
    "\n",
    "    # your_code\n",
    "    sum_ap_k = sum([ap_k(recommended_all_users[u], bought_all_users[u], k) for u in range(len(bought_all_users))])\n",
    "\n",
    "    map_k = sum_ap_k / len(bought_all_users)\n",
    "\n",
    "    return map_k"
   ],
   "metadata": {
    "collapsed": false,
    "pycharm": {
     "name": "#%%\n"
    }
   }
  },
  {
   "cell_type": "code",
   "execution_count": 41,
   "outputs": [
    {
     "data": {
      "text/plain": "0.35"
     },
     "execution_count": 41,
     "metadata": {},
     "output_type": "execute_result"
    }
   ],
   "source": [
    "# Требуются данные рекоммендаций и покупок для разных пользователей, сгенерирую на лету.\n",
    "map_k([recommended_list for i in range(5)], [bought_list[:i] for i in range(5)], k=5)"
   ],
   "metadata": {
    "collapsed": false,
    "pycharm": {
     "name": "#%%\n"
    }
   }
  },
  {
   "cell_type": "markdown",
   "source": [
    "## AP для примера с лекции"
   ],
   "metadata": {
    "collapsed": false,
    "pycharm": {
     "name": "#%% md\n"
    }
   }
  },
  {
   "cell_type": "code",
   "execution_count": 42,
   "outputs": [],
   "source": [
    "_recommended_list = [6, 3, 5, 0, 4, 2, 1, 7]\n",
    "_bought_list = [6, 5, 0, 2]\n"
   ],
   "metadata": {
    "collapsed": false,
    "pycharm": {
     "name": "#%%\n"
    }
   }
  },
  {
   "cell_type": "code",
   "execution_count": 43,
   "outputs": [
    {
     "data": {
      "text/plain": "0.6041666666666666"
     },
     "execution_count": 43,
     "metadata": {},
     "output_type": "execute_result"
    }
   ],
   "source": [
    "ap_k(_recommended_list, _bought_list, k=5)"
   ],
   "metadata": {
    "collapsed": false,
    "pycharm": {
     "name": "#%%\n"
    }
   }
  },
  {
   "cell_type": "code",
   "execution_count": 44,
   "outputs": [
    {
     "name": "stdout",
     "output_type": "stream",
     "text": [
      "1 0.0\n",
      "2 0.25\n",
      "3 0.25\n",
      "4 0.41666666666666663\n",
      "5 0.6041666666666666\n",
      "6 0.6041666666666666\n",
      "7 0.7708333333333333\n",
      "8 0.7708333333333333\n"
     ]
    }
   ],
   "source": [
    "for i in range(1, 9):\n",
    "    print(i, ap_k(_recommended_list, _bought_list, k=i))"
   ],
   "metadata": {
    "collapsed": false,
    "pycharm": {
     "name": "#%%\n"
    }
   }
  },
  {
   "cell_type": "markdown",
   "source": [
    "## MRR@K"
   ],
   "metadata": {
    "collapsed": false,
    "pycharm": {
     "name": "#%% md\n"
    }
   }
  },
  {
   "cell_type": "code",
   "execution_count": 45,
   "outputs": [],
   "source": [
    "def reciprocal_rank(recommended_all_users, bought_all_users, k=5):\n",
    "    recommended_all_users = np.array(recommended_all_users)\n",
    "    bought_all_users = np.array(bought_all_users)\n",
    "\n",
    "    rr_list = []\n",
    "    for i in np.arange(len(bought_list)):\n",
    "        relevant_indexes = np.nonzero(np.isin(recommended_all_users[i][:k], bought_all_users[i]))[0]\n",
    "        if len(relevant_indexes) != 0:\n",
    "            rr_list.append(1/(relevant_indexes[0]+1))\n",
    "\n",
    "\n",
    "    return sum(rr_list)/len(bought_list)"
   ],
   "metadata": {
    "collapsed": false,
    "pycharm": {
     "name": "#%%\n"
    }
   }
  },
  {
   "cell_type": "code",
   "execution_count": 46,
   "outputs": [
    {
     "name": "stderr",
     "output_type": "stream",
     "text": [
      "/home/pavel/anaconda3/lib/python3.7/site-packages/ipykernel_launcher.py:3: VisibleDeprecationWarning: Creating an ndarray from ragged nested sequences (which is a list-or-tuple of lists-or-tuples-or ndarrays with different lengths or shapes) is deprecated. If you meant to do this, you must specify 'dtype=object' when creating the ndarray.\n",
      "  This is separate from the ipykernel package so we can avoid doing imports until\n"
     ]
    },
    {
     "data": {
      "text/plain": "0.25"
     },
     "execution_count": 46,
     "metadata": {},
     "output_type": "execute_result"
    }
   ],
   "source": [
    "# Требуются данные рекоммендаций и покупок для разных пользователей, сгенерирую на лету.\n",
    "reciprocal_rank([recommended_list for i in range(5)], [bought_list[:i] for i in range(5)], k=5)"
   ],
   "metadata": {
    "collapsed": false,
    "pycharm": {
     "name": "#%%\n"
    }
   }
  },
  {
   "cell_type": "code",
   "execution_count": 52,
   "outputs": [
    {
     "data": {
      "text/plain": "0.9419493913323128"
     },
     "execution_count": 52,
     "metadata": {},
     "output_type": "execute_result"
    }
   ],
   "source": [
    "## NDCG@K"
   ],
   "metadata": {
    "collapsed": false,
    "pycharm": {
     "name": "#%%\n"
    }
   }
  },
  {
   "cell_type": "code",
   "execution_count": 128,
   "outputs": [
    {
     "data": {
      "text/plain": "7.830535704537055"
     },
     "execution_count": 128,
     "metadata": {},
     "output_type": "execute_result"
    }
   ],
   "source": [
    "grades_list = [3, 2, 1, 1, 3, 1, 2]"
   ],
   "metadata": {
    "collapsed": false,
    "pycharm": {
     "name": "#%%\n"
    }
   }
  },
  {
   "cell_type": "code",
   "execution_count": null,
   "outputs": [],
   "source": [
    "def dcg_at_k(grades_list, k=7):\n",
    "\n",
    "    grades_list = np.array(grades_list)[:k]\n",
    "\n",
    "    dcg = 0\n",
    "    for i in range(len(grades_list)):\n",
    "        if i == 0:\n",
    "            dcg = grades_list[i]\n",
    "            # print(grades_list[i])\n",
    "        else:\n",
    "            dcg += (grades_list[i] / math.log2(i+1+1))\n",
    "            # print(grades_list[i], ' / ', math.log2(i+2))\n",
    "\n",
    "    return dcg"
   ],
   "metadata": {
    "collapsed": false,
    "pycharm": {
     "name": "#%%\n"
    }
   }
  },
  {
   "cell_type": "code",
   "execution_count": 126,
   "outputs": [],
   "source": [
    "dcg_at_k(grades_list, k=7)"
   ],
   "metadata": {
    "collapsed": false,
    "pycharm": {
     "name": "#%%\n"
    }
   }
  },
  {
   "cell_type": "code",
   "execution_count": null,
   "outputs": [],
   "source": [
    "dcg_at_k(sorted(grades_list, reverse=True), k=7)"
   ],
   "metadata": {
    "collapsed": false,
    "pycharm": {
     "name": "#%%\n"
    }
   }
  },
  {
   "cell_type": "code",
   "execution_count": null,
   "outputs": [],
   "source": [
    "def ndcg_at_k(grades_list, k=7):\n",
    "\n",
    "\n",
    "    dcg = dcg_at_k(grades_list, k)\n",
    "    ideal_dcg = dcg_at_k(sorted(grades_list, reverse=True), k)\n",
    "\n",
    "    ndcg = dcg / ideal_dcg\n",
    "\n",
    "    return ndcg\n"
   ],
   "metadata": {
    "collapsed": false,
    "pycharm": {
     "name": "#%%\n"
    }
   }
  },
  {
   "cell_type": "code",
   "execution_count": null,
   "outputs": [],
   "source": [
    "ndcg_at_k(grades_list, k=7)"
   ],
   "metadata": {
    "collapsed": false,
    "pycharm": {
     "name": "#%%\n"
    }
   }
  }
 ],
 "metadata": {
  "kernelspec": {
   "display_name": "Python 3",
   "language": "python",
   "name": "python3"
  },
  "language_info": {
   "codemirror_mode": {
    "name": "ipython",
    "version": 2
   },
   "file_extension": ".py",
   "mimetype": "text/x-python",
   "name": "python",
   "nbconvert_exporter": "python",
   "pygments_lexer": "ipython2",
   "version": "2.7.6"
  }
 },
 "nbformat": 4,
 "nbformat_minor": 0
}